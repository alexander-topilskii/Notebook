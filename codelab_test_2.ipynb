{
  "nbformat": 4,
  "nbformat_minor": 0,
  "metadata": {
    "colab": {
      "provenance": [],
      "toc_visible": true,
      "authorship_tag": "ABX9TyOTV8ZjDG3PE9KiYT/5ybgG",
      "include_colab_link": true
    },
    "kernelspec": {
      "name": "python3",
      "display_name": "Python 3"
    },
    "language_info": {
      "name": "python"
    }
  },
  "cells": [
    {
      "cell_type": "markdown",
      "metadata": {
        "id": "view-in-github",
        "colab_type": "text"
      },
      "source": [
        "<a href=\"https://colab.research.google.com/github/alexander-topilskii/Notebook/blob/main/codelab_test_2.ipynb\" target=\"_parent\"><img src=\"https://colab.research.google.com/assets/colab-badge.svg\" alt=\"Open In Colab\"/></a>"
      ]
    },
    {
      "cell_type": "markdown",
      "source": [
        "# Section 1"
      ],
      "metadata": {
        "id": "6iVruc59yLCp"
      }
    },
    {
      "cell_type": "code",
      "execution_count": 1,
      "metadata": {
        "id": "C_QUQyhUvOKQ"
      },
      "outputs": [],
      "source": [
        " a = 3"
      ]
    },
    {
      "cell_type": "code",
      "source": [
        "b = 4\n",
        "s = 12\n",
        "c = a + b - s\n",
        "print(c)"
      ],
      "metadata": {
        "colab": {
          "base_uri": "https://localhost:8080/"
        },
        "id": "I73fnTGHwkfl",
        "outputId": "e2893787-47e3-4f06-d2ce-230f2c6aa626"
      },
      "execution_count": 3,
      "outputs": [
        {
          "output_type": "stream",
          "name": "stdout",
          "text": [
            "-5\n"
          ]
        }
      ]
    },
    {
      "cell_type": "code",
      "source": [
        "for i in range(100):\n",
        "    print(\"number is \", i)\n",
        ""
      ],
      "metadata": {
        "colab": {
          "base_uri": "https://localhost:8080/"
        },
        "id": "p6vUMTdgw0c0",
        "outputId": "da2a886b-dc44-4b02-a6e1-752c1bfe718d"
      },
      "execution_count": 8,
      "outputs": [
        {
          "output_type": "stream",
          "name": "stdout",
          "text": [
            "number is  0\n",
            "number is  1\n",
            "number is  2\n",
            "number is  3\n",
            "number is  4\n",
            "number is  5\n",
            "number is  6\n",
            "number is  7\n",
            "number is  8\n",
            "number is  9\n",
            "number is  10\n",
            "number is  11\n",
            "number is  12\n",
            "number is  13\n",
            "number is  14\n",
            "number is  15\n",
            "number is  16\n",
            "number is  17\n",
            "number is  18\n",
            "number is  19\n",
            "number is  20\n",
            "number is  21\n",
            "number is  22\n",
            "number is  23\n",
            "number is  24\n",
            "number is  25\n",
            "number is  26\n",
            "number is  27\n",
            "number is  28\n",
            "number is  29\n",
            "number is  30\n",
            "number is  31\n",
            "number is  32\n",
            "number is  33\n",
            "number is  34\n",
            "number is  35\n",
            "number is  36\n",
            "number is  37\n",
            "number is  38\n",
            "number is  39\n",
            "number is  40\n",
            "number is  41\n",
            "number is  42\n",
            "number is  43\n",
            "number is  44\n",
            "number is  45\n",
            "number is  46\n",
            "number is  47\n",
            "number is  48\n",
            "number is  49\n",
            "number is  50\n",
            "number is  51\n",
            "number is  52\n",
            "number is  53\n",
            "number is  54\n",
            "number is  55\n",
            "number is  56\n",
            "number is  57\n",
            "number is  58\n",
            "number is  59\n",
            "number is  60\n",
            "number is  61\n",
            "number is  62\n",
            "number is  63\n",
            "number is  64\n",
            "number is  65\n",
            "number is  66\n",
            "number is  67\n",
            "number is  68\n",
            "number is  69\n",
            "number is  70\n",
            "number is  71\n",
            "number is  72\n",
            "number is  73\n",
            "number is  74\n",
            "number is  75\n",
            "number is  76\n",
            "number is  77\n",
            "number is  78\n",
            "number is  79\n",
            "number is  80\n",
            "number is  81\n",
            "number is  82\n",
            "number is  83\n",
            "number is  84\n",
            "number is  85\n",
            "number is  86\n",
            "number is  87\n",
            "number is  88\n",
            "number is  89\n",
            "number is  90\n",
            "number is  91\n",
            "number is  92\n",
            "number is  93\n",
            "number is  94\n",
            "number is  95\n",
            "number is  96\n",
            "number is  97\n",
            "number is  98\n",
            "number is  99\n"
          ]
        }
      ]
    },
    {
      "cell_type": "code",
      "source": [
        "import matplotlib.pyplot as plt\n"
      ],
      "metadata": {
        "id": "7Q8IMEc1xyRu"
      },
      "execution_count": 10,
      "outputs": []
    },
    {
      "cell_type": "code",
      "source": [
        "x = [-2, -1 , 0, 1, 2]\n",
        "y = [4, 1, 0, 1, 4]\n",
        "plt.plot(x,y)"
      ],
      "metadata": {
        "colab": {
          "base_uri": "https://localhost:8080/",
          "height": 447
        },
        "id": "ombTlPctxjwH",
        "outputId": "702423fc-46ae-48e4-f8ab-de0a49bd7df6"
      },
      "execution_count": 11,
      "outputs": [
        {
          "output_type": "execute_result",
          "data": {
            "text/plain": [
              "[<matplotlib.lines.Line2D at 0x7eb675488b90>]"
            ]
          },
          "metadata": {},
          "execution_count": 11
        },
        {
          "output_type": "display_data",
          "data": {
            "text/plain": [
              "<Figure size 640x480 with 1 Axes>"
            ],
            "image/png": "[encoded data removed]"
          },
          "metadata": {}
        }
      ]
    },
    {
      "cell_type": "markdown",
      "source": [
        "# Section test 2"
      ],
      "metadata": {
        "id": "0z7EmwK_yEf0"
      }
    }
  ]
}